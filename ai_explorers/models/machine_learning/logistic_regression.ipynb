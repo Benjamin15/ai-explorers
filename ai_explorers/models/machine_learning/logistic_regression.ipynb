{
 "cells": [
  {
   "cell_type": "markdown",
   "metadata": {},
   "source": [
    "# Regression logistique"
   ]
  },
  {
   "cell_type": "markdown",
   "metadata": {},
   "source": [
    "## Description"
   ]
  },
  {
   "cell_type": "markdown",
   "metadata": {},
   "source": [
    "La régression logistique un cas particulier de de modèle linéaire. Elle permet d’estimer la probabilité qu’un événement ait lieu (variable expliquée) en fonction d’un ensemble de variables indépendantes ou variables explicatives.\n"
   ]
  },
  {
   "cell_type": "markdown",
   "metadata": {},
   "source": [
    "Avant de créer un modèle, il est essentiel de préparer vos données. Voici quelques étapes clés :\n",
    "\n",
    "**Collecte des données** : Rassemblez un ensemble de données contenant des exemples étiquetés (c’est-à-dire des observations avec des valeurs de caractéristiques et des étiquettes de classe).\n",
    "\n",
    "**Exploration des données** : Analysez vos données pour comprendre leurs caractéristiques et leurs relations.\n",
    "\n",
    "**Nettoyage des données** : Traitez les valeurs manquantes, les valeurs aberrantes et les incohérences dans vos données.\n",
    "\n",
    "Ces étapes sont généralement suivies pour tous les types de modeles."
   ]
  },
  {
   "cell_type": "markdown",
   "metadata": {},
   "source": [
    "## Exemple\n"
   ]
  },
  {
   "cell_type": "code",
   "execution_count": 8,
   "metadata": {},
   "outputs": [
    {
     "data": {
      "image/png": "[encoded data removed]",
      "text/plain": [
       "<Figure size 640x480 with 1 Axes>"
      ]
     },
     "metadata": {},
     "output_type": "display_data"
    }
   ],
   "source": [
    "import matplotlib.pyplot as plt\n",
    "import numpy as np\n",
    "\n",
    "# Création de données d'exemple\n",
    "np.random.seed(0)\n",
    "X = np.random.rand(100, 1)\n",
    "y = np.random.randint(0, 2, len(X))\n",
    "\n",
    "# Affichage des données\n",
    "plt.scatter(X,y,s=10)\n",
    "plt.xlabel('x')\n",
    "plt.ylabel('y')\n",
    "plt.show()"
   ]
  },
  {
   "cell_type": "code",
   "execution_count": 10,
   "metadata": {},
   "outputs": [
    {
     "name": "stdout",
     "output_type": "stream",
     "text": [
      "Précision du modèle : 0.40\n"
     ]
    }
   ],
   "source": [
    "# Importez les bibliothèques nécessaires\n",
    "from sklearn.model_selection import train_test_split\n",
    "from sklearn.linear_model import LogisticRegression\n",
    "from sklearn.metrics import accuracy_score\n",
    "\n",
    "# Chargez vos données (X pour les caractéristiques, y pour les étiquettes)\n",
    "X_train, X_test, y_train, y_test = train_test_split(X, y, test_size=0.2, random_state=42)\n",
    "\n",
    "# Créez le modèle\n",
    "model = LogisticRegression()\n",
    "model.fit(X_train, y_train)\n",
    "\n",
    "# Faites des prédictions sur l'ensemble de test\n",
    "y_pred = model.predict(X_test)\n",
    "\n",
    "# Évaluez les performances du modèle\n",
    "accuracy = accuracy_score(y_test, y_pred)\n",
    "print(f\"Précision du modèle : {accuracy:.2f}\")"
   ]
  },
  {
   "cell_type": "markdown",
   "metadata": {},
   "source": [
    "## Quant l'utiliser \n",
    "\n",
    "La régression logistique est utilisée pour prédire une variable binaire (par exemple, “oui” ou “non”, “spam” ou “non-spam”). Contrairement à la régression linéaire, qui prédit des valeurs continues, la régression logistique est adaptée aux problèmes de classification."
   ]
  },
  {
   "cell_type": "markdown",
   "metadata": {},
   "source": []
  },
  {
   "cell_type": "markdown",
   "metadata": {},
   "source": []
  }
 ],
 "metadata": {
  "kernelspec": {
   "display_name": "ai-explorer",
   "language": "python",
   "name": "python3"
  },
  "language_info": {
   "codemirror_mode": {
    "name": "ipython",
    "version": 3
   },
   "file_extension": ".py",
   "mimetype": "text/x-python",
   "name": "python",
   "nbconvert_exporter": "python",
   "pygments_lexer": "ipython3",
   "version": "3.10.0"
  },
  "orig_nbformat": 4
 },
 "nbformat": 4,
 "nbformat_minor": 2
}
