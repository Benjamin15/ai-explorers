{
 "cells": [
  {
   "cell_type": "markdown",
   "metadata": {},
   "source": [
    "# KNN ( k-plus proches voisins)"
   ]
  },
  {
   "cell_type": "markdown",
   "metadata": {},
   "source": [
    "## Description\n",
    "\n",
    "\n",
    "Le kNN est un algorithme d’apprentissage supervisé utilisé pour la classification et la régression. \n",
    "\n",
    "Illustrons l'idée des KNN avec un exemple. Supposons que nous ayons un ensemble de fleurs avec des caractéristiques telles que la longueur du pétale et la largeur du sépale. Si nous voulons prédire la classe d’une nouvelle fleur, nous devons mesurer sa ressemblance par rapport aux autres fleurs. \n",
    "\n",
    "Voici les points clés à retenir :\n",
    "\n",
    "Intuition : L’idée principale derrière kNN est de prédire la classe (ou la valeur) d’un nouvel échantillon en se basant sur les classes (ou les valeurs) des échantillons voisins les plus proches dans l’espace des caractéristiques.\n",
    "\n",
    "\n",
    "Distance : Les kNN utilisent une mesure de distance (par exemple, la distance euclidienne) pour déterminer quels échantillons sont les plus proches.\n",
    "\n",
    "\n",
    "Paramètre k : Le nombre de voisins à considérer est défini par le paramètre k. Plus k est grand, plus l’algorithme est robuste aux fluctuations locales, mais il peut aussi devenir moins précis."
   ]
  },
  {
   "cell_type": "code",
   "execution_count": 2,
   "metadata": {},
   "outputs": [
    {
     "name": "stdout",
     "output_type": "stream",
     "text": [
      "Précision du modèle : 1.00\n"
     ]
    }
   ],
   "source": [
    "from sklearn.datasets import load_iris\n",
    "from sklearn.model_selection import train_test_split\n",
    "from sklearn.neighbors import KNeighborsClassifier\n",
    "from sklearn.metrics import accuracy_score\n",
    "\n",
    "# Chargement du jeu de données Iris\n",
    "iris = load_iris()\n",
    "X, y = iris.data, iris.target\n",
    "\n",
    "# Séparation des données en ensembles d'entraînement et de test\n",
    "X_train, X_test, y_train, y_test = train_test_split(X, y, test_size=0.2, random_state=42)\n",
    "\n",
    "# Création du modèle kNN avec 3 voisins\n",
    "knn_model = KNeighborsClassifier(n_neighbors=3)\n",
    "\n",
    "# Entraînement du modèle sur l'ensemble d'entraînement\n",
    "knn_model.fit(X_train, y_train)\n",
    "\n",
    "# Prédiction sur l'ensemble de test\n",
    "y_pred = knn_model.predict(X_test)\n",
    "\n",
    "# Évaluation des performances du modèle\n",
    "accuracy = accuracy_score(y_test, y_pred)\n",
    "print(f\"Précision du modèle : {accuracy:.2f}\")"
   ]
  },
  {
   "cell_type": "markdown",
   "metadata": {},
   "source": [
    "## Quand utiliser les KNN \n",
    "\n",
    "Les KNN sont généralement utilisées lorsque l'on veut une prediction par rapport a la distance des exemples dans l'espace des caracteristiques. \n"
   ]
  },
  {
   "cell_type": "markdown",
   "metadata": {},
   "source": []
  }
 ],
 "metadata": {
  "kernelspec": {
   "display_name": "ai-explorer",
   "language": "python",
   "name": "python3"
  },
  "language_info": {
   "codemirror_mode": {
    "name": "ipython",
    "version": 3
   },
   "file_extension": ".py",
   "mimetype": "text/x-python",
   "name": "python",
   "nbconvert_exporter": "python",
   "pygments_lexer": "ipython3",
   "version": "3.10.0"
  },
  "orig_nbformat": 4
 },
 "nbformat": 4,
 "nbformat_minor": 2
}
