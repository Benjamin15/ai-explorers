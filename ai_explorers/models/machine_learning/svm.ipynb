{
 "cells": [
  {
   "cell_type": "markdown",
   "metadata": {},
   "source": [
    "# SVM (Support Vector Machine)"
   ]
  },
  {
   "cell_type": "markdown",
   "metadata": {},
   "source": [
    "## Description\n",
    "\n",
    "Les machines à vecteurs de support (SVM) sont des modèles de machine learning supervisés utilisés pour résoudre des problèmes de classification et de régression.\n",
    "\n"
   ]
  },
  {
   "cell_type": "markdown",
   "metadata": {},
   "source": [
    "### Théorie des SVM \n",
    "\n",
    "Les SVM permettent de traiter des problèmes non linéaires en les reformulant en problèmes d’optimisation quadratique. Ces problèmes sont plus faciles à résoudre.\n",
    "\n",
    "\n",
    "Deux idées clés sous-tendent les SVM :\n",
    "\n",
    "\n",
    "- La notion de marge maximale : la frontière de séparation des données doit maximiser la distance entre la frontière et les points les plus proches (appelés vecteurs support).\n",
    "\n",
    "\n",
    "- La notion de fonction noyau : une alternative au produit scalaire dans un espace de grande dimension, mesurant l’influence réciproque entre deux éléments.\n",
    "\n",
    "\n",
    "En bref, les SVM cherchent à trouver l’hyperplan qui divise au mieux un jeu de données en deux classes"
   ]
  },
  {
   "cell_type": "markdown",
   "metadata": {},
   "source": [
    "### Concrètement, qu’est-ce qu’un SVM \n",
    "\n",
    "Les SVM sont des séparateurs linéaires. La frontière séparant les classes est une droite (ou un hyperplan dans des dimensions supérieures).\n",
    "\n",
    "L’objectif est de trouver l’hyperplan qui maximise la marge entre les vecteurs support et la frontière de séparation"
   ]
  },
  {
   "cell_type": "markdown",
   "metadata": {},
   "source": [
    "## Exemple"
   ]
  },
  {
   "cell_type": "code",
   "execution_count": 1,
   "metadata": {},
   "outputs": [
    {
     "name": "stdout",
     "output_type": "stream",
     "text": [
      "Exactitude : 1.0\n"
     ]
    }
   ],
   "source": [
    "# Importer les bibliothèques nécessaires\n",
    "from sklearn import datasets\n",
    "from sklearn.model_selection import train_test_split\n",
    "from sklearn import svm\n",
    "from sklearn.metrics import accuracy_score\n",
    "\n",
    "# Charger l'ensemble de données Iris\n",
    "iris = datasets.load_iris()\n",
    "\n",
    "# Séparer les données en ensembles d'entraînement et de test\n",
    "X_train, X_test, y_train, y_test = train_test_split(iris.data, iris.target, test_size=0.2, random_state=42)\n",
    "\n",
    "# Définir le modèle SVM avec un noyau linéaire\n",
    "clf = svm.SVC(kernel='linear')\n",
    "\n",
    "# Former le modèle sur les données d'entraînement\n",
    "clf.fit(X_train, y_train)\n",
    "\n",
    "# Prédire les classes pour les données de test\n",
    "predictions = clf.predict(X_test)\n",
    "\n",
    "# Mesurer l'exactitude du modèle\n",
    "print(\"Exactitude :\", accuracy_score(y_test, predictions))"
   ]
  },
  {
   "cell_type": "markdown",
   "metadata": {},
   "source": [
    "## Quand l'utiliser\n",
    "\n",
    "Classification : par exemple, dans la détection de spam, reconnaissance d’images, diagnostics médicaux, etc.\n",
    "\n",
    "Régression : pour prédire des valeurs continues (par exemple, le prix d’une maison).\n",
    "\n",
    "Détection d’anomalies : identifier des observations inhabituelles dans un ensemble de données"
   ]
  },
  {
   "cell_type": "markdown",
   "metadata": {},
   "source": []
  }
 ],
 "metadata": {
  "kernelspec": {
   "display_name": "ai-explorer",
   "language": "python",
   "name": "python3"
  },
  "language_info": {
   "codemirror_mode": {
    "name": "ipython",
    "version": 3
   },
   "file_extension": ".py",
   "mimetype": "text/x-python",
   "name": "python",
   "nbconvert_exporter": "python",
   "pygments_lexer": "ipython3",
   "version": "3.10.0"
  },
  "orig_nbformat": 4
 },
 "nbformat": 4,
 "nbformat_minor": 2
}
