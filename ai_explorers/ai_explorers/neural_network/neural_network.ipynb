{
 "cells": [
  {
   "cell_type": "code",
   "execution_count": 5,
   "metadata": {
    "tags": [
     "remove-cell"
    ]
   },
   "outputs": [],
   "source": [
    "import warnings\n",
    "warnings.filterwarnings('ignore')"
   ]
  },
  {
   "cell_type": "markdown",
   "metadata": {},
   "source": [
    "# Les reseaux de neurones\n",
    "\n",
    "Un réseau de neurones est un modèle informatique inspiré du fonctionnement des neurones biologiques. Les réseaux de neurones sont utilisés pour résoudre des problèmes complexes dans divers domaines, notamment la reconnaissance d’images, la reconnaissance vocale, la recommandation de produits, etc."
   ]
  },
  {
   "cell_type": "markdown",
   "metadata": {},
   "source": [
    "## Le perceptron\n",
    "\n",
    "Le perceptron est l’unité de base d’un réseau de neurones. Il s’agit d’un modèle mathématique d’un neurone biologique. Dans sa forme la plus simple, un perceptron reçoit plusieurs entrées, les multiplie par des poids, les somme et applique une fonction d’activation au résultat pour produire une sortie.\n",
    "La formule est la suivante : \n",
    "$f(x)=activation(\\sum_{i=1}^n ​w_i ​x_i ​+ b) $\n",
    "\n",
    "\n",
    "où :\n",
    "\n",
    "- xi​ sont les entrées\n",
    "- wi​ sont les poids\n",
    "- b est le biais\n",
    "- activation est la fonction d’activation\n",
    "\n",
    "La fonction d’activation la plus simple est la fonction d’escalier, qui renvoie 1 si l’entrée est supérieure à un certain seuil et 0 sinon. C’est cette fonction qui est utilisée dans le perceptron original.\n"
   ]
  },
  {
   "cell_type": "markdown",
   "metadata": {},
   "source": [
    "## Réseau de neurones\n",
    "\n",
    "Un réseau de neurones est essentiellement un assemblage de perceptrons organisés en couches. Les sorties d’une couche sont les entrées de la couche suivante. Il existe trois types de couches dans un réseau de neurones :\n",
    "\n",
    "Couche d’entrée : Elle reçoit les données d’entrée.\n",
    "Couches cachées : Elles effectuent la plupart des calculs nécessaires au réseau.\n",
    "Couche de sortie : Elle produit le résultat final."
   ]
  },
  {
   "cell_type": "markdown",
   "metadata": {},
   "source": [
    "## Apprentissage\n",
    "\n",
    "L’apprentissage d’un réseau de neurones consiste à ajuster les poids et les biais de manière à minimiser l’erreur entre la sortie prédite par le réseau et la sortie attendue. Cela se fait généralement par une méthode appelée rétropropagation du gradient.\n",
    "\n",
    "Dans la rétropropagation, l’erreur est calculée à la sortie et répartie en arrière à travers le réseau, en ajustant les poids et les biais en cours de route."
   ]
  },
  {
   "cell_type": "markdown",
   "metadata": {},
   "source": [
    "## Examples\n",
    "\n",
    "### Pytorch"
   ]
  },
  {
   "cell_type": "code",
   "execution_count": 1,
   "metadata": {},
   "outputs": [],
   "source": [
    "import torch\n",
    "from torch import nn\n",
    "\n",
    "# Définition du modèle\n",
    "class NeuralNetwork(nn.Module):\n",
    "    def __init__(self):\n",
    "        super(NeuralNetwork, self).__init__()\n",
    "        self.layer1 = nn.Linear(11, 6)\n",
    "        self.layer2 = nn.Linear(6, 6)\n",
    "        self.output_layer = nn.Linear(6, 1)\n",
    "\n",
    "    def forward(self, x):\n",
    "        x = torch.relu(self.layer1(x))\n",
    "        x = torch.relu(self.layer2(x))\n",
    "        x = torch.sigmoid(self.output_layer(x))\n",
    "        return x\n",
    "\n",
    "# Création du modèle\n",
    "model = NeuralNetwork()\n",
    "\n",
    "# Définition de la fonction de perte et de l'optimiseur\n",
    "criterion = nn.BCELoss()\n",
    "optimizer = torch.optim.Adam(model.parameters())\n",
    "\n",
    "# Entraînement du modèle\n",
    "# for epoch in range(100):\n",
    "#     for inputs, targets in train_loader:\n",
    "#         # Forward pass\n",
    "#         outputs = model(inputs)\n",
    "#         loss = criterion(outputs, targets)\n",
    "\n",
    "#         # Backward and optimize\n",
    "#         optimizer.zero_grad()\n",
    "#         loss.backward()\n",
    "#         optimizer.step()\n"
   ]
  },
  {
   "cell_type": "markdown",
   "metadata": {},
   "source": [
    "### Tensorflow"
   ]
  },
  {
   "cell_type": "code",
   "execution_count": 3,
   "metadata": {},
   "outputs": [],
   "source": [
    "from keras.models import Sequential\n",
    "from keras.layers import Dense\n",
    "\n",
    "# Création du modèle\n",
    "model = Sequential()\n",
    "\n",
    "# Ajout de la couche d'entrée et de la première couche cachée\n",
    "model.add(Dense(units=6, activation='relu', input_dim=11))\n",
    "\n",
    "# Ajout de la deuxième couche cachée\n",
    "model.add(Dense(units=6, activation='relu'))\n",
    "\n",
    "# Ajout de la couche de sortie\n",
    "model.add(Dense(units=1, activation='sigmoid'))\n",
    "\n",
    "# Compilation du modèle\n",
    "model.compile(optimizer='adam', loss='binary_crossentropy', metrics=['accuracy'])\n",
    "\n",
    "# Entraînement du modèle\n",
    "# model.fit(X_train, y_train, batch_size=10, epochs=100)\n"
   ]
  },
  {
   "cell_type": "code",
   "execution_count": null,
   "metadata": {},
   "outputs": [],
   "source": []
  }
 ],
 "metadata": {
  "kernelspec": {
   "display_name": "ai-explorer",
   "language": "python",
   "name": "python3"
  },
  "language_info": {
   "codemirror_mode": {
    "name": "ipython",
    "version": 3
   },
   "file_extension": ".py",
   "mimetype": "text/x-python",
   "name": "python",
   "nbconvert_exporter": "python",
   "pygments_lexer": "ipython3",
   "version": "3.10.0"
  },
  "orig_nbformat": 4
 },
 "nbformat": 4,
 "nbformat_minor": 2
}
