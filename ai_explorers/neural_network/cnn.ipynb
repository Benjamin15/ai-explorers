{
 "cells": [
  {
   "cell_type": "markdown",
   "metadata": {},
   "source": [
    "# Convolutional neural network (CNN)\n",
    "\n",
    "🚀 Décollage\n",
    "Imaginez que vous êtes un robot super intelligent qui a été envoyé sur une mission pour comprendre les images. Votre outil principal pour cette mission est un réseau de neurones convolutif, ou CNN.\n",
    "\n",
    "🧠 Le cerveau du robot\n",
    "Un CNN est comme le cerveau du robot. Il est composé de plusieurs couches de neurones, chacune ayant une tâche spécifique. Les premières couches sont responsables de la détection des caractéristiques de base comme les lignes et les courbes, tandis que les couches plus profondes sont capables de reconnaître des formes plus complexes comme les visages ou les objets.\n",
    "\n",
    "## Explication\n",
    "\n",
    "### Couches de convolution\n",
    "\n",
    "Les couches de convolution sont le bloc de construction principal d’un CNN. L’objectif de ces couches est de détecter différents types de caractéristiques dans les images qui sont entrées dans le réseau. Chaque neurone dans une couche de convolution est connecté à une petite région de l’image d’entrée. Un filtre (ou un noyau) est appliqué à cette région pour obtenir une valeur unique dans la carte des caractéristiques de sortie.\n",
    "\n",
    "\n",
    "### Couches de pooling\n",
    "\n",
    "Les couches de pooling servent principalement à réduire la quantité de paramètres et de calculs dans le réseau. Cela se fait en réduisant la dimensionnalité de chaque carte de caractéristiques tout en conservant les informations les plus importantes. Il existe plusieurs types de pooling, comme le max pooling, le min pooling et le mean pooling.\n",
    "\n",
    "\n",
    "### Couches entièrement connectées\n",
    "\n",
    "Après plusieurs couches de convolution et de pooling, les cartes de caractéristiques de haute dimension sont aplaties en un vecteur avant de passer par une ou plusieurs couches entièrement connectées. Ces couches fonctionnent de la même manière que dans un réseau de neurones artificiels traditionnel, où chaque neurone est connecté à tous les neurones de la couche précédente. La dernière couche entièrement connectée utilise une fonction d’activation softmax pour produire une distribution de probabilités pour les classes de sortie.\n",
    "\n",
    "\n",
    "### Fonction d’activation ReLU\n",
    "\n",
    "La fonction d’activation ReLU (Rectified Linear Unit) est la plus couramment utilisée dans les CNN. Elle est définie comme $f(x)=max(0,x)$\n",
    ", ce qui signifie qu’elle passe simplement les valeurs positives et met à zéro les valeurs négatives. Cela ajoute la non-linéarité nécessaire qui permet au réseau d’apprendre à partir de données plus complexes.\n",
    "\n",
    "\n",
    "### Backpropagation et optimisation\n",
    "\n",
    "Comme pour les autres types de réseaux de neurones, les CNN utilisent la rétropropagation pour la mise à jour des poids. C’est un algorithme qui ajuste les poids du réseau en fonction de l’erreur obtenue à la sortie. L’optimisation, telle que la descente de gradient stochastique (SGD), est utilisée pour minimiser l’erreur en ajustant les poids du réseau.\n"
   ]
  },
  {
   "cell_type": "markdown",
   "metadata": {},
   "source": [
    "## Exemple de code\n",
    "Voici un exemple simple de CNN avec PyTorch et TensorFlow.\n"
   ]
  },
  {
   "cell_type": "markdown",
   "metadata": {},
   "source": [
    "### PyTorch\n"
   ]
  },
  {
   "cell_type": "code",
   "execution_count": 9,
   "metadata": {},
   "outputs": [],
   "source": [
    "\n",
    "import torch.nn as nn\n",
    "import torch.nn.functional as F\n",
    "\n",
    "class SimpleCNN(nn.Module):\n",
    "    def __init__(self):\n",
    "        super().__init__()\n",
    "        self.conv1 = nn.Conv2d(3, 6, 5)\n",
    "        self.pool = nn.MaxPool2d(2, 2)\n",
    "        self.conv2 = nn.Conv2d(6, 16, 5)\n",
    "        self.fc1 = nn.Linear(16 * 5 * 5, 120)\n",
    "        self.fc2 = nn.Linear(120, 84)\n",
    "        self.fc3 = nn.Linear(84, 10)\n",
    "\n",
    "    def forward(self, x):\n",
    "        x = self.pool(F.relu(self.conv1(x)))\n",
    "        x = self.pool(F.relu(self.conv2(x)))\n",
    "        x = x.view(-1, 16 * 5 * 5)\n",
    "        x = F.relu(self.fc1(x))\n",
    "        x = F.relu(self.fc2(x))\n",
    "        x = self.fc3(x)\n",
    "        return x\n"
   ]
  },
  {
   "cell_type": "markdown",
   "metadata": {},
   "source": [
    "### Tensorflow\n"
   ]
  },
  {
   "cell_type": "code",
   "execution_count": 7,
   "metadata": {},
   "outputs": [],
   "source": [
    "import tensorflow as tf\n",
    "from tensorflow.keras import layers, models\n",
    "\n",
    "class SimpleCNN(models.Model):\n",
    "    def __init__(self):\n",
    "        super().__init__()\n",
    "        self.conv1 = layers.Conv2D(6, (5, 5), activation='relu', padding='same', input_shape=(32, 32, 3))\n",
    "        self.pool = layers.MaxPooling2D((2, 2), strides=2)\n",
    "        self.conv2 = layers.Conv2D(16, (5, 5), activation='relu', padding='same')\n",
    "        self.flatten = layers.Flatten()\n",
    "        self.fc1 = layers.Dense(120, activation='relu')\n",
    "        self.fc2 = layers.Dense(84, activation='relu')\n",
    "        self.fc3 = layers.Dense(10)\n",
    "\n",
    "    def call(self, x):\n",
    "        x = self.pool(self.conv1(x))\n",
    "        x = self.pool(self.conv2(x))\n",
    "        x = self.flatten(x)\n",
    "        x = self.fc1(x)\n",
    "        x = self.fc2(x)\n",
    "        x = self.fc3(x)\n",
    "        return x\n",
    "\n",
    "\n"
   ]
  },
  {
   "cell_type": "markdown",
   "metadata": {},
   "source": [
    "Notez que dans TensorFlow, nous utilisons la fonction d’activation ReLU directement dans la couche de convolution, contrairement à PyTorch où nous l’appliquons dans la fonction forward. "
   ]
  },
  {
   "cell_type": "markdown",
   "metadata": {},
   "source": [
    "## Quand utiliser des CNN ? \n",
    "\n",
    "Les CNN sont principalement utilisés dans le domaine de la vision par ordinateur. Voici quelques exemples d’applications :\n",
    "\n",
    "*Reconnaissance d’images* : Les CNN sont souvent utilisés pour classer les images dans différentes catégories.\n",
    "Détection d’objets : Les CNN peuvent être utilisés pour identifier les objets dans une image et localiser où ils se trouvent.\n",
    "\n",
    "*Segmentation sémantique* : Les CNN peuvent être utilisés pour classer chaque pixel d’une image, ce qui est utile pour comprendre exactement où se trouvent les objets.\n",
    "\n",
    "*Reconnaissance faciale* : Les CNN sont couramment utilisés pour identifier les visages dans les images.\n",
    "J’espère que cela vous aide à comprendre les réseaux de neurones convolutifs. Si vous avez d’autres questions, n’hésitez pas à demander !"
   ]
  }
 ],
 "metadata": {
  "kernelspec": {
   "display_name": "ai-explorer",
   "language": "python",
   "name": "python3"
  },
  "language_info": {
   "codemirror_mode": {
    "name": "ipython",
    "version": 3
   },
   "file_extension": ".py",
   "mimetype": "text/x-python",
   "name": "python",
   "nbconvert_exporter": "python",
   "pygments_lexer": "ipython3",
   "version": "3.10.0"
  },
  "orig_nbformat": 4
 },
 "nbformat": 4,
 "nbformat_minor": 2
}
